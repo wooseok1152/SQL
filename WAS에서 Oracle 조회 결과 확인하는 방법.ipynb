{
 "cells": [
  {
   "cell_type": "code",
   "execution_count": 43,
   "id": "51b0e37d",
   "metadata": {},
   "outputs": [
    {
     "data": {
      "text/html": [
       "<div>\n",
       "<style scoped>\n",
       "    .dataframe tbody tr th:only-of-type {\n",
       "        vertical-align: middle;\n",
       "    }\n",
       "\n",
       "    .dataframe tbody tr th {\n",
       "        vertical-align: top;\n",
       "    }\n",
       "\n",
       "    .dataframe thead th {\n",
       "        text-align: right;\n",
       "    }\n",
       "</style>\n",
       "<table border=\"1\" class=\"dataframe\">\n",
       "  <thead>\n",
       "    <tr style=\"text-align: right;\">\n",
       "      <th></th>\n",
       "      <th>SNO</th>\n",
       "      <th>SNAME</th>\n",
       "      <th>SEX</th>\n",
       "      <th>SYEAR</th>\n",
       "      <th>MAJOR</th>\n",
       "      <th>AVR</th>\n",
       "    </tr>\n",
       "  </thead>\n",
       "  <tbody>\n",
       "    <tr>\n",
       "      <th>0</th>\n",
       "      <td>999999</td>\n",
       "      <td>None</td>\n",
       "      <td>None</td>\n",
       "      <td>None</td>\n",
       "      <td>None</td>\n",
       "      <td>None</td>\n",
       "    </tr>\n",
       "  </tbody>\n",
       "</table>\n",
       "</div>"
      ],
      "text/plain": [
       "      SNO SNAME   SEX SYEAR MAJOR   AVR\n",
       "0  999999  None  None  None  None  None"
      ]
     },
     "metadata": {},
     "output_type": "display_data"
    },
    {
     "name": "stdout",
     "output_type": "stream",
     "text": [
      "999999\n"
     ]
    }
   ],
   "source": [
    "# 오라클 연동 및 접속 \n",
    "import cx_Oracle \n",
    "dsn=cx_Oracle.makedsn('localhost',1521,'orcl') \n",
    "db=cx_Oracle.connect('SYSTEM','Cus101010') \n",
    "\n",
    "cursor=db.cursor() \n",
    "cursor.execute(\"\"\"select * from student where sno='999999'\"\"\") \n",
    "row=cursor.fetchall() \n",
    "\n",
    "colname=cursor.description \n",
    "col=[] \n",
    "\n",
    "for i in colname : \n",
    "    \n",
    "    col.append(i[0])\n",
    "    \n",
    "std=pd.DataFrame(row,columns=col)\n",
    "display(std)\n",
    "\n",
    "try : \n",
    "    \n",
    "    target_record = std.to_dict(\"r\")[0]\n",
    "    result = target_record[\"SNO\"]\n",
    "    print(result)\n",
    "\n",
    "except :\n",
    "    \n",
    "    print(\"no student.\")"
   ]
  }
 ],
 "metadata": {
  "kernelspec": {
   "display_name": "Python 3 (ipykernel)",
   "language": "python",
   "name": "python3"
  },
  "language_info": {
   "codemirror_mode": {
    "name": "ipython",
    "version": 3
   },
   "file_extension": ".py",
   "mimetype": "text/x-python",
   "name": "python",
   "nbconvert_exporter": "python",
   "pygments_lexer": "ipython3",
   "version": "3.7.10"
  }
 },
 "nbformat": 4,
 "nbformat_minor": 5
}
